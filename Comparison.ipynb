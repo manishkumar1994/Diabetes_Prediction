{
 "cells": [
  {
   "cell_type": "markdown",
   "id": "c45eb635-167e-45e5-82cc-0e6e058936e2",
   "metadata": {},
   "source": [
    "# Comparison of Accuracy"
   ]
  },
  {
   "cell_type": "code",
   "execution_count": 8,
   "id": "naughty-lightning",
   "metadata": {},
   "outputs": [
    {
     "data": {
      "image/png": "[encoded data removed]",
      "text/plain": [
       "<Figure size 432x288 with 1 Axes>"
      ]
     },
     "metadata": {
      "needs_background": "light"
     },
     "output_type": "display_data"
    }
   ],
   "source": [
    "import seaborn as sns\n",
    "%matplotlib inline\n",
    "from matplotlib import pyplot as plt\n",
    "data = {'KNN' : 74, 'SVC' : 81, 'RF' : 82}\n",
    "keys = list(data.keys())\n",
    "values = list(data.values())\n",
    "sns.barplot(x=keys, y=values)\n",
    "plt.title(\"Comparing Accuracy\", pad = 25)\n",
    "plt.show()"
   ]
  },
  {
   "cell_type": "code",
   "execution_count": null,
   "id": "pregnant-exception",
   "metadata": {},
   "outputs": [],
   "source": [
    "Best Hyper tuned parameters of all agms\n",
    "\n",
    "KNN\n",
    "Hypertuning KNN\n",
    "Using parameter as Distance\n",
    "Distance = euclidean distance\n",
    "\n",
    "\n",
    "SVC\n",
    "Hyper Tuning Parameters\n",
    "kernel = 'linear'\n",
    "\n",
    "RF\n",
    "Hypertuning parameters in Random Forest\n",
    "Number of Trees  = 500\n",
    "Maximum Depth = 3"
   ]
  },
  {
   "cell_type": "markdown",
   "id": "6a92dfef-23ad-431c-90f6-60d3cf225d7b",
   "metadata": {},
   "source": [
    "## SVC and Random Forest has similar accuracy"
   ]
  }
 ],
 "metadata": {
  "kernelspec": {
   "display_name": "Python 3",
   "language": "python",
   "name": "python3"
  },
  "language_info": {
   "codemirror_mode": {
    "name": "ipython",
    "version": 3
   },
   "file_extension": ".py",
   "mimetype": "text/x-python",
   "name": "python",
   "nbconvert_exporter": "python",
   "pygments_lexer": "ipython3",
   "version": "3.8.8"
  }
 },
 "nbformat": 4,
 "nbformat_minor": 5
}
