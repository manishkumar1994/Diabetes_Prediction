{
 "cells": [
  {
   "cell_type": "markdown",
   "metadata": {},
   "source": [
    "# KNN Implementation"
   ]
  },
  {
   "cell_type": "code",
   "execution_count": 1,
   "metadata": {},
   "outputs": [
    {
     "name": "stdout",
     "output_type": "stream",
     "text": [
      "     Glucose  BloodPressure  SkinThickness  Insulin   BMI  \\\n",
      "0        148             72             35       80  33.6   \n",
      "1         85             66             29       80  26.6   \n",
      "2        183             64             21       80  23.3   \n",
      "3         89             66             23       94  28.1   \n",
      "4        137             40             35      168  43.1   \n",
      "..       ...            ...            ...      ...   ...   \n",
      "763      101             76             48      180  32.9   \n",
      "764      122             70             27       80  36.8   \n",
      "765      121             72             23      112  26.2   \n",
      "766      126             60             21       80  30.1   \n",
      "767       93             70             31       80  30.4   \n",
      "\n",
      "     DiabetesPedigreeFunction  Age  \n",
      "0                       0.627   50  \n",
      "1                       0.351   31  \n",
      "2                       0.672   32  \n",
      "3                       0.167   21  \n",
      "4                       2.288   33  \n",
      "..                        ...  ...  \n",
      "763                     0.171   63  \n",
      "764                     0.340   27  \n",
      "765                     0.245   30  \n",
      "766                     0.349   47  \n",
      "767                     0.315   23  \n",
      "\n",
      "[768 rows x 7 columns]\n",
      "     Outcome\n",
      "0          1\n",
      "1          0\n",
      "2          1\n",
      "3          0\n",
      "4          1\n",
      "..       ...\n",
      "763        0\n",
      "764        0\n",
      "765        0\n",
      "766        1\n",
      "767        0\n",
      "\n",
      "[768 rows x 1 columns]\n"
     ]
    },
    {
     "name": "stderr",
     "output_type": "stream",
     "text": [
      "C:\\Users\\MANISH\\.anaconda\\anaconda\\lib\\site-packages\\sklearn\\neighbors\\_classification.py:179: DataConversionWarning: A column-vector y was passed when a 1d array was expected. Please change the shape of y to (n_samples,), for example using ravel().\n",
      "  return self._fit(X, y)\n"
     ]
    },
    {
     "name": "stdout",
     "output_type": "stream",
     "text": [
      "              precision    recall  f1-score   support\n",
      "\n",
      "           0       0.76      0.89      0.82       206\n",
      "           1       0.66      0.43      0.52       102\n",
      "\n",
      "    accuracy                           0.74       308\n",
      "   macro avg       0.71      0.66      0.67       308\n",
      "weighted avg       0.73      0.74      0.72       308\n",
      "\n"
     ]
    },
    {
     "data": {
      "image/png": "[encoded data removed]",
      "text/plain": [
       "<Figure size 432x288 with 2 Axes>"
      ]
     },
     "metadata": {
      "needs_background": "light"
     },
     "output_type": "display_data"
    }
   ],
   "source": [
    "import pandas as pd\n",
    "import numpy as np\n",
    "from sklearn import metrics\n",
    "from sklearn.model_selection import train_test_split\n",
    "from sklearn.neighbors import KNeighborsClassifier\n",
    "from sklearn.metrics import accuracy_score\n",
    "from sklearn.metrics import confusion_matrix\n",
    "from sklearn.metrics import classification_report\n",
    "import seaborn as sn\n",
    "import matplotlib.pyplot as plt\n",
    "\n",
    "df = pd.read_csv('Feature_selected.csv')\n",
    "cols = df.columns\n",
    "\n",
    "num_cols = df._get_numeric_data().columns\n",
    "categorical_columns = df['Outcome'].name\n",
    "df_numeric = pd.DataFrame()\n",
    "for x in num_cols:\n",
    "    df_numeric[x] = df[x]\n",
    "del df_numeric['Outcome']   \n",
    "print(df_numeric)\n",
    "df_categorical = pd.DataFrame()\n",
    "df_categorical[categorical_columns] = df[categorical_columns]\n",
    "print(df_categorical)\n",
    "X = df_numeric.values.reshape(768,7)\n",
    "y = df_categorical.values.reshape(768,1)\n",
    "\n",
    "X_train, X_test, y_train, y_test = train_test_split(X, y, test_size=0.4, random_state = 4)\n",
    "\n",
    "neigh = KNeighborsClassifier(n_neighbors=2)\n",
    "neigh.fit(X_train, y_train)\n",
    "\n",
    "y_pred = neigh.predict(X_test)\n",
    "print(classification_report(y_test,y_pred))\n",
    "df_cm = confusion_matrix(y_test, y_pred)\n",
    "sn.heatmap(df_cm, annot=True, annot_kws={\"size\": 16},  fmt=\".0f\") # font size\n",
    "plt.show()\n"
   ]
  },
  {
   "cell_type": "code",
   "execution_count": null,
   "metadata": {},
   "outputs": [],
   "source": [
    "Hypertuning KNN\n",
    "Using parameter as Distance\n",
    "\n",
    "Distance = Manhattan distance"
   ]
  },
  {
   "cell_type": "code",
   "execution_count": 2,
   "metadata": {},
   "outputs": [
    {
     "name": "stderr",
     "output_type": "stream",
     "text": [
      "C:\\Users\\MANISH\\.anaconda\\anaconda\\lib\\site-packages\\sklearn\\neighbors\\_classification.py:179: DataConversionWarning: A column-vector y was passed when a 1d array was expected. Please change the shape of y to (n_samples,), for example using ravel().\n",
      "  return self._fit(X, y)\n"
     ]
    },
    {
     "name": "stdout",
     "output_type": "stream",
     "text": [
      "              precision    recall  f1-score   support\n",
      "\n",
      "           0       0.75      0.88      0.81       206\n",
      "           1       0.63      0.42      0.51       102\n",
      "\n",
      "    accuracy                           0.73       308\n",
      "   macro avg       0.69      0.65      0.66       308\n",
      "weighted avg       0.71      0.73      0.71       308\n",
      "\n"
     ]
    },
    {
     "data": {
      "image/png": "[encoded data removed]",
      "text/plain": [
       "<Figure size 432x288 with 2 Axes>"
      ]
     },
     "metadata": {
      "needs_background": "light"
     },
     "output_type": "display_data"
    }
   ],
   "source": [
    "import pandas as pd\n",
    "import numpy as np\n",
    "from sklearn import metrics\n",
    "from sklearn.model_selection import train_test_split\n",
    "from sklearn.neighbors import KNeighborsClassifier\n",
    "from sklearn.metrics import accuracy_score\n",
    "from sklearn.metrics import confusion_matrix\n",
    "from sklearn.metrics import classification_report\n",
    "import seaborn as sn\n",
    "import matplotlib.pyplot as plt\n",
    "\n",
    "df = pd.read_csv('Feature_selected.csv')\n",
    "cols = df.columns\n",
    "\n",
    "num_cols = df._get_numeric_data().columns\n",
    "categorical_columns = df['Outcome'].name\n",
    "df_numeric = pd.DataFrame()\n",
    "for x in num_cols:\n",
    "    df_numeric[x] = df[x]\n",
    "del df_numeric['Outcome']   \n",
    "df_categorical = pd.DataFrame()\n",
    "df_categorical[categorical_columns] = df[categorical_columns]\n",
    "X = df_numeric.values.reshape(768,7)\n",
    "y = df_categorical.values.reshape(768,1)\n",
    "\n",
    "X_train, X_test, y_train, y_test = train_test_split(X, y, test_size=0.4, random_state = 4)\n",
    "\n",
    "neigh = KNeighborsClassifier(n_neighbors=2, metric = 'manhattan')\n",
    "neigh.fit(X_train, y_train)\n",
    "\n",
    "y_pred = neigh.predict(X_test)\n",
    "print(classification_report(y_test,y_pred))\n",
    "df_cm = confusion_matrix(y_test, y_pred)\n",
    "sn.heatmap(df_cm, annot=True, annot_kws={\"size\": 16},  fmt=\".0f\") # font size\n",
    "plt.show()\n",
    "\n"
   ]
  },
  {
   "cell_type": "code",
   "execution_count": null,
   "metadata": {},
   "outputs": [],
   "source": [
    "Hypertuning KNN\n",
    "Using parameter as Distance\n",
    "\n",
    "Distance = euclidean distance"
   ]
  },
  {
   "cell_type": "code",
   "execution_count": 3,
   "metadata": {},
   "outputs": [
    {
     "name": "stderr",
     "output_type": "stream",
     "text": [
      "C:\\Users\\MANISH\\.anaconda\\anaconda\\lib\\site-packages\\sklearn\\neighbors\\_classification.py:179: DataConversionWarning: A column-vector y was passed when a 1d array was expected. Please change the shape of y to (n_samples,), for example using ravel().\n",
      "  return self._fit(X, y)\n"
     ]
    },
    {
     "name": "stdout",
     "output_type": "stream",
     "text": [
      "              precision    recall  f1-score   support\n",
      "\n",
      "           0       0.76      0.89      0.82       206\n",
      "           1       0.66      0.43      0.52       102\n",
      "\n",
      "    accuracy                           0.74       308\n",
      "   macro avg       0.71      0.66      0.67       308\n",
      "weighted avg       0.73      0.74      0.72       308\n",
      "\n"
     ]
    },
    {
     "data": {
      "image/png": "[encoded data removed]",
      "text/plain": [
       "<Figure size 432x288 with 2 Axes>"
      ]
     },
     "metadata": {
      "needs_background": "light"
     },
     "output_type": "display_data"
    }
   ],
   "source": [
    "import pandas as pd\n",
    "import numpy as np\n",
    "from sklearn import metrics\n",
    "from sklearn.model_selection import train_test_split\n",
    "from sklearn.neighbors import KNeighborsClassifier\n",
    "from sklearn.metrics import accuracy_score\n",
    "from sklearn.metrics import confusion_matrix\n",
    "from sklearn.metrics import classification_report\n",
    "import seaborn as sn\n",
    "import matplotlib.pyplot as plt\n",
    "\n",
    "df = pd.read_csv('Feature_selected.csv')\n",
    "cols = df.columns\n",
    "\n",
    "num_cols = df._get_numeric_data().columns\n",
    "categorical_columns = df['Outcome'].name\n",
    "df_numeric = pd.DataFrame()\n",
    "for x in num_cols:\n",
    "    df_numeric[x] = df[x]\n",
    "del df_numeric['Outcome']   \n",
    "df_categorical = pd.DataFrame()\n",
    "df_categorical[categorical_columns] = df[categorical_columns]\n",
    "X = df_numeric.values.reshape(768,7)\n",
    "y = df_categorical.values.reshape(768,1)\n",
    "\n",
    "X_train, X_test, y_train, y_test = train_test_split(X, y, test_size=0.4, random_state = 4)\n",
    "\n",
    "neigh = KNeighborsClassifier(n_neighbors=2, metric = 'euclidean')\n",
    "neigh.fit(X_train, y_train)\n",
    "\n",
    "y_pred = neigh.predict(X_test)\n",
    "print(classification_report(y_test,y_pred))\n",
    "df_cm = confusion_matrix(y_test, y_pred)\n",
    "sn.heatmap(df_cm, annot=True, annot_kws={\"size\": 16},  fmt=\".0f\") # font size\n",
    "plt.show()\n"
   ]
  },
  {
   "cell_type": "code",
   "execution_count": null,
   "metadata": {},
   "outputs": [],
   "source": [
    "Hypertuning KNN\n",
    "Using parameter as Weights\n",
    "\n",
    "weight function used in prediction. Possible values:\n",
    "‘uniform’ : uniform weights. All points in each neighborhood are weighted equally.\n",
    "‘distance’ : weight points by the inverse of their distance. in this case, closer neighbors of a query point will have a greater influence than neighbors which are further away.\n",
    "\n",
    "Distance: Manhattan\n",
    "weight = distance"
   ]
  },
  {
   "cell_type": "code",
   "execution_count": 4,
   "metadata": {},
   "outputs": [
    {
     "name": "stderr",
     "output_type": "stream",
     "text": [
      "C:\\Users\\MANISH\\.anaconda\\anaconda\\lib\\site-packages\\sklearn\\neighbors\\_classification.py:179: DataConversionWarning: A column-vector y was passed when a 1d array was expected. Please change the shape of y to (n_samples,), for example using ravel().\n",
      "  return self._fit(X, y)\n"
     ]
    },
    {
     "name": "stdout",
     "output_type": "stream",
     "text": [
      "              precision    recall  f1-score   support\n",
      "\n",
      "           0       0.75      0.69      0.72       206\n",
      "           1       0.47      0.54      0.50       102\n",
      "\n",
      "    accuracy                           0.64       308\n",
      "   macro avg       0.61      0.62      0.61       308\n",
      "weighted avg       0.66      0.64      0.65       308\n",
      "\n"
     ]
    },
    {
     "data": {
      "image/png": "[encoded data removed]",
      "text/plain": [
       "<Figure size 432x288 with 2 Axes>"
      ]
     },
     "metadata": {
      "needs_background": "light"
     },
     "output_type": "display_data"
    }
   ],
   "source": [
    "import pandas as pd\n",
    "import numpy as np\n",
    "from sklearn import metrics\n",
    "from sklearn.model_selection import train_test_split\n",
    "from sklearn.neighbors import KNeighborsClassifier\n",
    "from sklearn.metrics import accuracy_score\n",
    "from sklearn.metrics import confusion_matrix\n",
    "from sklearn.metrics import classification_report\n",
    "import seaborn as sn\n",
    "import matplotlib.pyplot as plt\n",
    "\n",
    "df = pd.read_csv('Feature_selected.csv')\n",
    "cols = df.columns\n",
    "\n",
    "num_cols = df._get_numeric_data().columns\n",
    "categorical_columns = df['Outcome'].name\n",
    "df_numeric = pd.DataFrame()\n",
    "for x in num_cols:\n",
    "    df_numeric[x] = df[x]\n",
    "del df_numeric['Outcome']   \n",
    "df_categorical = pd.DataFrame()\n",
    "df_categorical[categorical_columns] = df[categorical_columns]\n",
    "X = df_numeric.values.reshape(768,7)\n",
    "y = df_categorical.values.reshape(768,1)\n",
    "\n",
    "X_train, X_test, y_train, y_test = train_test_split(X, y, test_size=0.4, random_state = 4)\n",
    "\n",
    "neigh = KNeighborsClassifier(n_neighbors=2, metric = 'manhattan', weights='distance')\n",
    "neigh.fit(X_train, y_train)\n",
    "\n",
    "y_pred = neigh.predict(X_test)\n",
    "print(classification_report(y_test,y_pred))\n",
    "df_cm = confusion_matrix(y_test, y_pred)\n",
    "sn.heatmap(df_cm, annot=True, annot_kws={\"size\": 16},  fmt=\".0f\") # font size\n",
    "plt.show()\n"
   ]
  },
  {
   "cell_type": "code",
   "execution_count": null,
   "metadata": {},
   "outputs": [],
   "source": [
    "Hypertuning KNN\n",
    "Using parameter as Weights\n",
    "\n",
    "weight function used in prediction. Possible values:\n",
    "‘uniform’ : uniform weights. All points in each neighborhood are weighted equally.\n",
    "‘distance’ : weight points by the inverse of their distance. in this case, closer neighbors of a query point will have a greater influence than neighbors which are further away.\n",
    "\n",
    "Distance: euclidean\n",
    "weight = distance"
   ]
  },
  {
   "cell_type": "code",
   "execution_count": 5,
   "metadata": {},
   "outputs": [
    {
     "name": "stderr",
     "output_type": "stream",
     "text": [
      "C:\\Users\\MANISH\\.anaconda\\anaconda\\lib\\site-packages\\sklearn\\neighbors\\_classification.py:179: DataConversionWarning: A column-vector y was passed when a 1d array was expected. Please change the shape of y to (n_samples,), for example using ravel().\n",
      "  return self._fit(X, y)\n"
     ]
    },
    {
     "name": "stdout",
     "output_type": "stream",
     "text": [
      "              precision    recall  f1-score   support\n",
      "\n",
      "           0       0.77      0.70      0.73       206\n",
      "           1       0.48      0.57      0.52       102\n",
      "\n",
      "    accuracy                           0.66       308\n",
      "   macro avg       0.62      0.63      0.63       308\n",
      "weighted avg       0.67      0.66      0.66       308\n",
      "\n"
     ]
    },
    {
     "data": {
      "image/png": "[encoded data removed]",
      "text/plain": [
       "<Figure size 432x288 with 2 Axes>"
      ]
     },
     "metadata": {
      "needs_background": "light"
     },
     "output_type": "display_data"
    }
   ],
   "source": [
    "import pandas as pd\n",
    "import numpy as np\n",
    "from sklearn import metrics\n",
    "from sklearn.model_selection import train_test_split\n",
    "from sklearn.neighbors import KNeighborsClassifier\n",
    "from sklearn.metrics import accuracy_score\n",
    "from sklearn.metrics import confusion_matrix\n",
    "from sklearn.metrics import classification_report\n",
    "import seaborn as sn\n",
    "import matplotlib.pyplot as plt\n",
    "\n",
    "df = pd.read_csv('Feature_selected.csv')\n",
    "cols = df.columns\n",
    "\n",
    "num_cols = df._get_numeric_data().columns\n",
    "categorical_columns = df['Outcome'].name\n",
    "df_numeric = pd.DataFrame()\n",
    "for x in num_cols:\n",
    "    df_numeric[x] = df[x]\n",
    "del df_numeric['Outcome']   \n",
    "df_categorical = pd.DataFrame()\n",
    "df_categorical[categorical_columns] = df[categorical_columns]\n",
    "X = df_numeric.values.reshape(768,7)\n",
    "y = df_categorical.values.reshape(768,1)\n",
    "\n",
    "X_train, X_test, y_train, y_test = train_test_split(X, y, test_size=0.4, random_state = 4)\n",
    "\n",
    "neigh = KNeighborsClassifier(n_neighbors=2, metric = 'euclidean', weights='distance')\n",
    "neigh.fit(X_train, y_train)\n",
    "\n",
    "y_pred = neigh.predict(X_test)\n",
    "print(classification_report(y_test,y_pred))\n",
    "df_cm = confusion_matrix(y_test, y_pred)\n",
    "sn.heatmap(df_cm, annot=True, annot_kws={\"size\": 16},  fmt=\".0f\") # font size\n",
    "plt.show()\n"
   ]
  },
  {
   "cell_type": "code",
   "execution_count": null,
   "metadata": {},
   "outputs": [],
   "source": [
    "KNN\n",
    "Hypertuning KNN\n",
    "Using parameter as Distance\n",
    "Distance = euclidean distance\n",
    "#Using euclidean dstance parameter it gives good accuracy compare to other parameter.\n"
   ]
  }
 ],
 "metadata": {
  "kernelspec": {
   "display_name": "Python 3",
   "language": "python",
   "name": "python3"
  },
  "language_info": {
   "codemirror_mode": {
    "name": "ipython",
    "version": 3
   },
   "file_extension": ".py",
   "mimetype": "text/x-python",
   "name": "python",
   "nbconvert_exporter": "python",
   "pygments_lexer": "ipython3",
   "version": "3.8.8"
  }
 },
 "nbformat": 4,
 "nbformat_minor": 4
}
