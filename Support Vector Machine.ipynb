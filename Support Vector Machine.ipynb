{
 "cells": [
  {
   "cell_type": "code",
   "execution_count": null,
   "metadata": {},
   "outputs": [],
   "source": [
    "Suppot Vector Classifier\n",
    "\n",
    "Default kernel is 'rbf"
   ]
  },
  {
   "cell_type": "code",
   "execution_count": 2,
   "metadata": {},
   "outputs": [
    {
     "name": "stderr",
     "output_type": "stream",
     "text": [
      "C:\\Users\\MANISH\\.anaconda\\anaconda\\lib\\site-packages\\sklearn\\utils\\validation.py:63: DataConversionWarning: A column-vector y was passed when a 1d array was expected. Please change the shape of y to (n_samples, ), for example using ravel().\n",
      "  return f(*args, **kwargs)\n"
     ]
    },
    {
     "name": "stdout",
     "output_type": "stream",
     "text": [
      "              precision    recall  f1-score   support\n",
      "\n",
      "           0       0.81      0.92      0.86       206\n",
      "           1       0.77      0.57      0.66       102\n",
      "\n",
      "    accuracy                           0.80       308\n",
      "   macro avg       0.79      0.74      0.76       308\n",
      "weighted avg       0.80      0.80      0.79       308\n",
      "\n"
     ]
    },
    {
     "data": {
      "image/png": "[encoded data removed]",
      "text/plain": [
       "<Figure size 432x288 with 2 Axes>"
      ]
     },
     "metadata": {
      "needs_background": "light"
     },
     "output_type": "display_data"
    }
   ],
   "source": [
    "import pandas as pd\n",
    "import numpy as np\n",
    "from sklearn import metrics\n",
    "from sklearn.model_selection import train_test_split\n",
    "from sklearn import svm\n",
    "\n",
    "from sklearn.metrics import accuracy_score\n",
    "from sklearn.metrics import confusion_matrix\n",
    "from sklearn.metrics import classification_report\n",
    "import seaborn as sn\n",
    "import matplotlib.pyplot as plt\n",
    "\n",
    "df = pd.read_csv('Feature_selected.csv')\n",
    "cols = df.columns\n",
    "\n",
    "num_cols = df._get_numeric_data().columns\n",
    "categorical_columns = df['Outcome'].name\n",
    "df_numeric = pd.DataFrame()\n",
    "for x in num_cols:\n",
    "    df_numeric[x] = df[x]\n",
    "del df_numeric['Outcome']   \n",
    "df_categorical = pd.DataFrame()\n",
    "df_categorical[categorical_columns] = df[categorical_columns]\n",
    "X = df_numeric.values.reshape(768,7)\n",
    "y = df_categorical.values.reshape(768,1)\n",
    "\n",
    "X_train, X_test, y_train, y_test = train_test_split(X, y, test_size=0.4, random_state = 4)\n",
    "\n",
    "model = svm.SVC(kernel = 'rbf')\n",
    "model.fit(X_train, y_train)\n",
    "\n",
    "y_pred = model.predict(X_test)\n",
    "print(classification_report(y_test,y_pred))\n",
    "df_cm = confusion_matrix(y_test, y_pred)\n",
    "sn.heatmap(df_cm, annot=True, annot_kws={\"size\": 16},  fmt=\".0f\") # font size\n",
    "plt.show()\n"
   ]
  },
  {
   "cell_type": "code",
   "execution_count": null,
   "metadata": {},
   "outputs": [],
   "source": [
    "Hyper Tuning Parameters\n",
    "\n",
    "kernel = 'linear'"
   ]
  },
  {
   "cell_type": "code",
   "execution_count": 3,
   "metadata": {},
   "outputs": [
    {
     "name": "stderr",
     "output_type": "stream",
     "text": [
      "C:\\Users\\MANISH\\.anaconda\\anaconda\\lib\\site-packages\\sklearn\\utils\\validation.py:63: DataConversionWarning: A column-vector y was passed when a 1d array was expected. Please change the shape of y to (n_samples, ), for example using ravel().\n",
      "  return f(*args, **kwargs)\n"
     ]
    },
    {
     "name": "stdout",
     "output_type": "stream",
     "text": [
      "              precision    recall  f1-score   support\n",
      "\n",
      "           0       0.86      0.86      0.86       206\n",
      "           1       0.71      0.71      0.71       102\n",
      "\n",
      "    accuracy                           0.81       308\n",
      "   macro avg       0.78      0.78      0.78       308\n",
      "weighted avg       0.81      0.81      0.81       308\n",
      "\n"
     ]
    },
    {
     "data": {
      "image/png": "[encoded data removed]",
      "text/plain": [
       "<Figure size 432x288 with 2 Axes>"
      ]
     },
     "metadata": {
      "needs_background": "light"
     },
     "output_type": "display_data"
    }
   ],
   "source": [
    "import pandas as pd\n",
    "import numpy as np\n",
    "from sklearn import metrics\n",
    "from sklearn.model_selection import train_test_split\n",
    "from sklearn import svm\n",
    "\n",
    "from sklearn.metrics import accuracy_score\n",
    "from sklearn.metrics import confusion_matrix\n",
    "from sklearn.metrics import classification_report\n",
    "import seaborn as sn\n",
    "import matplotlib.pyplot as plt\n",
    "\n",
    "df = pd.read_csv('Feature_selected.csv')\n",
    "cols = df.columns\n",
    "\n",
    "num_cols = df._get_numeric_data().columns\n",
    "categorical_columns = df['Outcome'].name\n",
    "df_numeric = pd.DataFrame()\n",
    "for x in num_cols:\n",
    "    df_numeric[x] = df[x]\n",
    "del df_numeric['Outcome']   \n",
    "df_categorical = pd.DataFrame()\n",
    "df_categorical[categorical_columns] = df[categorical_columns]\n",
    "X = df_numeric.values.reshape(768,7)\n",
    "y = df_categorical.values.reshape(768,1)\n",
    "\n",
    "X_train, X_test, y_train, y_test = train_test_split(X, y, test_size=0.4, random_state = 4)\n",
    "\n",
    "model = svm.SVC(kernel = 'linear')\n",
    "model.fit(X_train, y_train)\n",
    "\n",
    "y_pred = model.predict(X_test)\n",
    "print(classification_report(y_test,y_pred))\n",
    "df_cm = confusion_matrix(y_test, y_pred)\n",
    "sn.heatmap(df_cm, annot=True, annot_kws={\"size\": 16},  fmt=\".0f\") # font size\n",
    "plt.show()\n"
   ]
  },
  {
   "cell_type": "code",
   "execution_count": null,
   "metadata": {},
   "outputs": [],
   "source": [
    "Hyper Tuning Parameters\n",
    "\n",
    "kernel = 'sigmoid'"
   ]
  },
  {
   "cell_type": "code",
   "execution_count": 4,
   "metadata": {},
   "outputs": [
    {
     "name": "stderr",
     "output_type": "stream",
     "text": [
      "C:\\Users\\MANISH\\.anaconda\\anaconda\\lib\\site-packages\\sklearn\\utils\\validation.py:63: DataConversionWarning: A column-vector y was passed when a 1d array was expected. Please change the shape of y to (n_samples, ), for example using ravel().\n",
      "  return f(*args, **kwargs)\n"
     ]
    },
    {
     "name": "stdout",
     "output_type": "stream",
     "text": [
      "              precision    recall  f1-score   support\n",
      "\n",
      "           0       0.54      0.55      0.55       206\n",
      "           1       0.05      0.05      0.05       102\n",
      "\n",
      "    accuracy                           0.39       308\n",
      "   macro avg       0.30      0.30      0.30       308\n",
      "weighted avg       0.38      0.39      0.38       308\n",
      "\n"
     ]
    },
    {
     "data": {
      "image/png": "[encoded data removed]",
      "text/plain": [
       "<Figure size 432x288 with 2 Axes>"
      ]
     },
     "metadata": {
      "needs_background": "light"
     },
     "output_type": "display_data"
    }
   ],
   "source": [
    "import pandas as pd\n",
    "import numpy as np\n",
    "from sklearn import metrics\n",
    "from sklearn.model_selection import train_test_split\n",
    "from sklearn import svm\n",
    "\n",
    "from sklearn.metrics import accuracy_score\n",
    "from sklearn.metrics import confusion_matrix\n",
    "from sklearn.metrics import classification_report\n",
    "import seaborn as sn\n",
    "import matplotlib.pyplot as plt\n",
    "\n",
    "df = pd.read_csv('Feature_selected.csv')\n",
    "cols = df.columns\n",
    "\n",
    "num_cols = df._get_numeric_data().columns\n",
    "categorical_columns = df['Outcome'].name\n",
    "df_numeric = pd.DataFrame()\n",
    "for x in num_cols:\n",
    "    df_numeric[x] = df[x]\n",
    "del df_numeric['Outcome']   \n",
    "df_categorical = pd.DataFrame()\n",
    "df_categorical[categorical_columns] = df[categorical_columns]\n",
    "X = df_numeric.values.reshape(768,7)\n",
    "y = df_categorical.values.reshape(768,1)\n",
    "\n",
    "X_train, X_test, y_train, y_test = train_test_split(X, y, test_size=0.4, random_state = 4)\n",
    "\n",
    "model = svm.SVC(kernel = 'sigmoid')\n",
    "model.fit(X_train, y_train)\n",
    "\n",
    "y_pred = model.predict(X_test)\n",
    "print(classification_report(y_test,y_pred))\n",
    "df_cm = confusion_matrix(y_test, y_pred)\n",
    "sn.heatmap(df_cm, annot=True, annot_kws={\"size\": 16},  fmt=\".0f\") # font size\n",
    "plt.show()\n"
   ]
  },
  {
   "cell_type": "code",
   "execution_count": null,
   "metadata": {},
   "outputs": [],
   "source": [
    "Hyper Tuning Parameters\n",
    "\n",
    "kernel = 'poly'"
   ]
  },
  {
   "cell_type": "code",
   "execution_count": 5,
   "metadata": {},
   "outputs": [
    {
     "name": "stderr",
     "output_type": "stream",
     "text": [
      "C:\\Users\\MANISH\\.anaconda\\anaconda\\lib\\site-packages\\sklearn\\utils\\validation.py:63: DataConversionWarning: A column-vector y was passed when a 1d array was expected. Please change the shape of y to (n_samples, ), for example using ravel().\n",
      "  return f(*args, **kwargs)\n"
     ]
    },
    {
     "name": "stdout",
     "output_type": "stream",
     "text": [
      "              precision    recall  f1-score   support\n",
      "\n",
      "           0       0.82      0.91      0.86       206\n",
      "           1       0.77      0.59      0.67       102\n",
      "\n",
      "    accuracy                           0.81       308\n",
      "   macro avg       0.79      0.75      0.76       308\n",
      "weighted avg       0.80      0.81      0.80       308\n",
      "\n"
     ]
    },
    {
     "data": {
      "image/png": "[encoded data removed]",
      "text/plain": [
       "<Figure size 432x288 with 2 Axes>"
      ]
     },
     "metadata": {
      "needs_background": "light"
     },
     "output_type": "display_data"
    }
   ],
   "source": [
    "import pandas as pd\n",
    "import numpy as np\n",
    "from sklearn import metrics\n",
    "from sklearn.model_selection import train_test_split\n",
    "from sklearn import svm\n",
    "\n",
    "from sklearn.metrics import accuracy_score\n",
    "from sklearn.metrics import confusion_matrix\n",
    "from sklearn.metrics import classification_report\n",
    "import seaborn as sn\n",
    "import matplotlib.pyplot as plt\n",
    "\n",
    "df = pd.read_csv('Feature_selected.csv')\n",
    "cols = df.columns\n",
    "\n",
    "num_cols = df._get_numeric_data().columns\n",
    "categorical_columns = df['Outcome'].name\n",
    "df_numeric = pd.DataFrame()\n",
    "for x in num_cols:\n",
    "    df_numeric[x] = df[x]\n",
    "del df_numeric['Outcome']   \n",
    "df_categorical = pd.DataFrame()\n",
    "df_categorical[categorical_columns] = df[categorical_columns]\n",
    "X = df_numeric.values.reshape(768,7)\n",
    "y = df_categorical.values.reshape(768,1)\n",
    "\n",
    "X_train, X_test, y_train, y_test = train_test_split(X, y, test_size=0.4, random_state = 4)\n",
    "\n",
    "model = svm.SVC(kernel = 'poly')\n",
    "model.fit(X_train, y_train)\n",
    "\n",
    "y_pred = model.predict(X_test)\n",
    "print(classification_report(y_test,y_pred))\n",
    "df_cm = confusion_matrix(y_test, y_pred)\n",
    "sn.heatmap(df_cm, annot=True, annot_kws={\"size\": 16},  fmt=\".0f\") # font size\n",
    "plt.show()\n"
   ]
  },
  {
   "cell_type": "code",
   "execution_count": null,
   "metadata": {},
   "outputs": [],
   "source": [
    "Hyper Tuning Parameters\n",
    "kernel = 'linear'\n",
    "#The accuracy score is high for linear parameter"
   ]
  }
 ],
 "metadata": {
  "kernelspec": {
   "display_name": "Python 3",
   "language": "python",
   "name": "python3"
  },
  "language_info": {
   "codemirror_mode": {
    "name": "ipython",
    "version": 3
   },
   "file_extension": ".py",
   "mimetype": "text/x-python",
   "name": "python",
   "nbconvert_exporter": "python",
   "pygments_lexer": "ipython3",
   "version": "3.8.8"
  }
 },
 "nbformat": 4,
 "nbformat_minor": 4
}
